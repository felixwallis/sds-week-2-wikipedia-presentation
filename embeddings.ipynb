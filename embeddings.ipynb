{
 "cells": [
  {
   "cell_type": "markdown",
   "metadata": {},
   "source": [
    "# Setup\n"
   ]
  },
  {
   "cell_type": "code",
   "execution_count": null,
   "metadata": {},
   "outputs": [],
   "source": [
    "%load_ext autoreload \n",
    "%autoreload 2\n",
    "\n",
    "import pandas as pd\n",
    "import numpy as np\n",
    "import seaborn as sns\n",
    "import matplotlib.pyplot as plt\n",
    "from pathlib import Path\n",
    "from tqdm import tqdm\n",
    "from gensim.models import KeyedVectors\n",
    "from modules.nlp import NLP\n",
    "\n",
    "DATA_DIR = Path().cwd() / \"data\"\n",
    "\n",
    "CHINA_HEX = '#ee1c25'\n",
    "RUSSIA_HEX = '#1C3578'\n",
    "\n",
    "nlp = NLP()\n",
    "\n",
    "articles_df = pd.read_feather(DATA_DIR / \"wikiarticles_seg_data.feather\")\n",
    "\n",
    "# Drop non-substantive article sections\n",
    "section_titles_to_drop = ['Early life', 'Education',\n",
    "                          'External links', 'Further reading', 'References', 'See also']\n",
    "articles_df = articles_df[~articles_df['title'].isin(\n",
    "    section_titles_to_drop)]\n",
    "\n",
    "# Create a combined year and month column\n",
    "articles_df['month'] = articles_df['month'].astype(str).str.zfill(2)\n",
    "articles_df['year_month'] = articles_df['year'].astype(str) + '-' + articles_df['month']\n",
    "articles_df['year_month'] = pd.to_datetime(articles_df['year_month'])"
   ]
  },
  {
   "cell_type": "markdown",
   "metadata": {},
   "source": [
    "# Embeddings\n"
   ]
  },
  {
   "cell_type": "markdown",
   "metadata": {},
   "source": [
    "**Pretrained embeddings:** Jeffrey Pennington, Richard Socher, and Christopher D. Manning. 2014. GloVe: Global Vectors for Word Representation.\n"
   ]
  },
  {
   "cell_type": "code",
   "execution_count": null,
   "metadata": {},
   "outputs": [],
   "source": [
    "word_vectors = KeyedVectors.load_word2vec_format(\n",
    "    DATA_DIR / \"glove.840B.300d.txt\", binary=False, no_header=True)"
   ]
  },
  {
   "cell_type": "markdown",
   "metadata": {},
   "source": [
    "**Generating word embeddings**\n"
   ]
  },
  {
   "cell_type": "code",
   "execution_count": null,
   "metadata": {},
   "outputs": [],
   "source": [
    "# Remove sections without text\n",
    "articles_df.dropna(subset=['text'], inplace=True)\n",
    "\n",
    "# Tokenize text and remove stop words\n",
    "tqdm.pandas(desc=\"Tokenizing article text\")\n",
    "articles_df['tokens'] = articles_df['text'].progress_apply(\n",
    "    nlp.tokenize_text)\n",
    "\n",
    "# Generate word embeddings\n",
    "articles_df['weighted_embeddings'] = nlp.generate_tfidf_weighted_embeddings(\n",
    "    articles_df['tokens'], word_vectors)\n",
    "\n",
    "# Save embeddings\n",
    "articles_df.to_feather(DATA_DIR / \"wikiarticles_embeddings.feather\")"
   ]
  },
  {
   "cell_type": "markdown",
   "metadata": {},
   "source": [
    "**Calculating cosine similarities for different types of section**\n"
   ]
  },
  {
   "cell_type": "code",
   "execution_count": null,
   "metadata": {},
   "outputs": [],
   "source": [
    "articles_df = pd.read_feather(DATA_DIR / \"wikiarticles_embeddings.feather\")\n",
    "\n",
    "# Calculate full article monthly similarities\n",
    "tqdm.pandas(desc=\"Calculating monthly similarities\")\n",
    "article_monthly_similarities = articles_df.groupby('year_month').progress_apply(\n",
    "    nlp.calculate_grouped_similarities,\n",
    "    figure_column='article_name',\n",
    "    figure_1='Vladimir Putin',\n",
    "    figure_2='Xi Jinping',\n",
    "    embeddings_column='weighted_embeddings')\n",
    "\n",
    "# Calculate policy category monthly similarities\n",
    "tqdm.pandas(desc=\"Calculating monthly similarities\")\n",
    "policy_category_monthly_similarities = articles_df.groupby('year_month').progress_apply(\n",
    "    nlp.calculate_grouped_similarities,\n",
    "    figure_column='article_name',\n",
    "    figure_1='Vladimir Putin',\n",
    "    figure_2='Xi Jinping',\n",
    "    embeddings_column='weighted_embeddings',\n",
    "    category_column='category',\n",
    "    category='policy')\n",
    "\n",
    "# Calculate public image category monthly similarities\n",
    "tqdm.pandas(desc=\"Calculating monthly similarities\")\n",
    "recognition_category_monthly_similarities = articles_df.groupby('year_month').progress_apply(\n",
    "    nlp.calculate_grouped_similarities,\n",
    "    figure_column='article_name',\n",
    "    figure_1='Vladimir Putin',\n",
    "    figure_2='Xi Jinping',\n",
    "    embeddings_column='weighted_embeddings',\n",
    "    category_column='category',\n",
    "    category='Recognition')"
   ]
  },
  {
   "cell_type": "markdown",
   "metadata": {},
   "source": [
    "**Plotting cosine similarities**\n"
   ]
  },
  {
   "cell_type": "code",
   "execution_count": null,
   "metadata": {},
   "outputs": [],
   "source": [
    "WINDOW = 6\n",
    "\n",
    "plt.figure(figsize=(12, 6))\n",
    "plt.plot(article_monthly_similarities.index,\n",
    "         article_monthly_similarities.rolling(WINDOW).mean(), color=CHINA_HEX)\n",
    "plt.title(\n",
    "    \"Monthly Average Cosine Similarity Between Putin and Xi's Wikipedia Articles\")\n",
    "plt.xlabel(\"Date\")\n",
    "plt.ylabel(\"Cosine Similarity\")\n",
    "plt.show()\n",
    "\n",
    "plt.figure(figsize=(12, 6))\n",
    "plt.plot(policy_category_monthly_similarities.index,\n",
    "         policy_category_monthly_similarities.rolling(WINDOW).mean(), color=CHINA_HEX)\n",
    "plt.title(\n",
    "    \"Monthly Average Cosine Similarity Between Putin and Xi's Policy Sections\")\n",
    "plt.xlabel(\"Date\")\n",
    "plt.ylabel(\"Cosine Similarity\")\n",
    "plt.show()\n",
    "\n",
    "plt.figure(figsize=(12, 6))\n",
    "plt.plot(recognition_category_monthly_similarities.index,\n",
    "         recognition_category_monthly_similarities.rolling(WINDOW).mean(), color=CHINA_HEX)\n",
    "plt.title(\n",
    "    \"Monthly Average Cosine Similarity Between Putin and Xi's Public Image Sections\")\n",
    "plt.xlabel(\"Date\")\n",
    "plt.ylabel(\"Cosine Similarity\")\n",
    "plt.show()"
   ]
  }
 ],
 "metadata": {
  "kernelspec": {
   "display_name": ".venv",
   "language": "python",
   "name": "python3"
  },
  "language_info": {
   "codemirror_mode": {
    "name": "ipython",
    "version": 3
   },
   "file_extension": ".py",
   "mimetype": "text/x-python",
   "name": "python",
   "nbconvert_exporter": "python",
   "pygments_lexer": "ipython3",
   "version": "3.11.5"
  }
 },
 "nbformat": 4,
 "nbformat_minor": 2
}
