{
 "cells": [
  {
   "cell_type": "code",
   "execution_count": null,
   "metadata": {},
   "outputs": [],
   "source": [
    "import warnings\n",
    "from urllib3.exceptions import NotOpenSSLWarning\n",
    "\n",
    "# Suppress the NotOpenSSLWarning\n",
    "warnings.simplefilter('ignore', NotOpenSSLWarning)\n",
    "\n",
    "import os\n",
    "import pandas as pd\n",
    "from datetime import datetime\n",
    "\n",
    "# Define articles we want to download\n",
    "article1 = \"Vladimir_Putin\"\n",
    "# article2 = \"Vladimir_Putin\"\n",
    "\n",
    "# Define the start date (YYYY-MM-DD format)\n",
    "start_date = \"2017-01-01\"  # Change this to your desired start date\n",
    "\n",
    "# Create necessary directories if they don't exist\n",
    "os.makedirs(\"data\", exist_ok=True)\n",
    "os.makedirs(\"DataFrames\", exist_ok=True)\n",
    "\n",
    "# Download revisions for the first article with start date and update flag\n",
    "print(\"Downloading revisions for first article...\")\n",
    "os.system(\n",
    "    f'python oii-fsds-wikipedia/download_wiki_revisions.py \"{article1}\" --since {start_date} --update'\n",
    ")"
   ]
  },
  {
   "cell_type": "code",
   "execution_count": null,
   "metadata": {},
   "outputs": [],
   "source": [
    "import os\n",
    "import pandas as pd\n",
    "from datetime import datetime\n",
    "\n",
    "# Convert all downloaded revisions to DataFrames\n",
    "print(\"\\nConverting revisions to DataFrames...\")\n",
    "os.system(\n",
    "    'python oii-fsds-wikipedia/xml_to_dataframe.py --data-dir ./data --output-dir ./DataFrames --include-text'\n",
    ")\n",
    "\n",
    "article1 = \"Xi_Jinping\"\n",
    "\n",
    "# Load and verify one of the DataFrames\n",
    "print(\"\\nVerifying DataFrame contents...\")\n",
    "df = pd.read_feather(f\"DataFrames/{article1}.feather\")\n",
    "\n",
    "# Display basic information about the DataFrame\n",
    "print(\"\\nDataFrame Info:\")\n",
    "print(df.info())\n",
    "\n",
    "print(\"\\nFirst few rows:\")\n",
    "print(df.head())\n",
    "\n",
    "# Display some basic statistics\n",
    "print(f\"\\nTotal number of revisions: {len(df)}\")\n",
    "print(f\"Date range: from {df['timestamp'].min()} to {df['timestamp'].max()}\")\n",
    "print(f\"Number of unique editors: {df['username'].nunique()}\")\n"
   ]
  }
 ],
 "metadata": {
  "language_info": {
   "name": "python"
  }
 },
 "nbformat": 4,
 "nbformat_minor": 2
}
